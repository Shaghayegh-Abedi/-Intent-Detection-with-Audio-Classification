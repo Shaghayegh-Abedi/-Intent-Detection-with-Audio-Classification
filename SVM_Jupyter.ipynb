{
 "cells": [
  {
   "cell_type": "markdown",
   "id": "1e910791",
   "metadata": {},
   "source": [
    "### Import"
   ]
  },
  {
   "cell_type": "code",
   "execution_count": null,
   "id": "c4953d6b",
   "metadata": {},
   "outputs": [],
   "source": [
    "import pandas as pd\n",
    "import librosa\n",
    "import numpy as np\n",
    "from collections import Counter\n",
    "!pip install imblearn\n",
    "from imblearn.over_sampling import RandomOverSampler\n",
    "from sklearn.preprocessing import LabelEncoder\n",
    "!pip install tensorflow\n",
    "import keras\n",
    "from keras.models import Sequential\n",
    "from keras.layers import Dense, Conv2D, Flatten"
   ]
  },
  {
   "cell_type": "markdown",
   "id": "c8f10c68",
   "metadata": {},
   "source": [
    "### Reading development csv file"
   ]
  },
  {
   "cell_type": "code",
   "execution_count": 6,
   "id": "562610e1",
   "metadata": {},
   "outputs": [],
   "source": [
    "FileName = pd.read_csv(f'Project/development.csv')"
   ]
  },
  {
   "cell_type": "code",
   "execution_count": 7,
   "id": "923a8979",
   "metadata": {},
   "outputs": [
    {
     "data": {
      "text/plain": [
       "0       dsl_data/audio/speakers/2BqVo8kVB2Skwgyb/0a312...\n",
       "1       dsl_data/audio/speakers/2BqVo8kVB2Skwgyb/0ee42...\n",
       "2       dsl_data/audio/speakers/2BqVo8kVB2Skwgyb/1d9f3...\n",
       "3       dsl_data/audio/speakers/2BqVo8kVB2Skwgyb/269fc...\n",
       "4       dsl_data/audio/speakers/2BqVo8kVB2Skwgyb/5bbda...\n",
       "                              ...                        \n",
       "9849    dsl_data/audio/speakers/vnljypgejkINbBAY/4fb3d...\n",
       "9850    dsl_data/audio/speakers/vnljypgejkINbBAY/59e6a...\n",
       "9851    dsl_data/audio/speakers/vnljypgejkINbBAY/5c81c...\n",
       "9852    dsl_data/audio/speakers/vnljypgejkINbBAY/5ef42...\n",
       "9853    dsl_data/audio/speakers/vnljypgejkINbBAY/61b7a...\n",
       "Name: path, Length: 9854, dtype: object"
      ]
     },
     "execution_count": 7,
     "metadata": {},
     "output_type": "execute_result"
    }
   ],
   "source": [
    "FileName.path"
   ]
  },
  {
   "cell_type": "markdown",
   "id": "a051d98f",
   "metadata": {},
   "source": [
    " \n",
    " # Data Pre-Processing Section"
   ]
  },
  {
   "cell_type": "markdown",
   "id": "679bc63f",
   "metadata": {},
   "source": [
    "# We Have used Trimming and Padding to extract more accurate data \n"
   ]
  },
  {
   "cell_type": "code",
   "execution_count": null,
   "id": "0fb3cbbb",
   "metadata": {},
   "outputs": [],
   "source": [
    "melspectograms = []\n",
    "\n",
    "for i in range(0, len(FileName.count(axis=1))):\n",
    "    path_address = FileName.path[i]\n",
    "    y, sr = librosa.load(path_address)\n",
    "    yy, _ = librosa.effects.trim(y,top_db = 20)  # trim silence from the beginning and end of the audio file\n",
    "    p=235000-len(yy)\n",
    "    padding=np.pad(yy,(0,p))\n",
    "    mel_spect = librosa.feature.mfcc(padding, sr=sr)\n",
    "    melspectograms.append(mel_spect)\n"
   ]
  },
  {
   "cell_type": "code",
   "execution_count": null,
   "id": "9db07a8a",
   "metadata": {},
   "outputs": [],
   "source": []
  },
  {
   "cell_type": "markdown",
   "id": "ceacb9bf",
   "metadata": {},
   "source": [
    "## Converting List of MFCC to Array \n"
   ]
  },
  {
   "cell_type": "code",
   "execution_count": 11,
   "id": "d2ee0fee",
   "metadata": {},
   "outputs": [],
   "source": [
    "arrayofmel = np.array(melspectograms)\n",
    "FinalMFCC = arrayofmel.reshape(arrayofmel.shape[0], -1)"
   ]
  },
  {
   "cell_type": "code",
   "execution_count": 12,
   "id": "a2127403",
   "metadata": {},
   "outputs": [
    {
     "data": {
      "text/plain": [
       "array([[-526.3765 , -447.7765 , -367.30096, ...,    0.     ,    0.     ,\n",
       "           0.     ],\n",
       "       [-508.97012, -414.96906, -393.45593, ...,    0.     ,    0.     ,\n",
       "           0.     ],\n",
       "       [-693.09564, -616.1187 , -582.1136 , ...,    0.     ,    0.     ,\n",
       "           0.     ],\n",
       "       ...,\n",
       "       [-313.54346, -255.6263 , -241.1561 , ...,    0.     ,    0.     ,\n",
       "           0.     ],\n",
       "       [-334.59213, -211.85994, -149.16759, ...,    0.     ,    0.     ,\n",
       "           0.     ],\n",
       "       [-341.19757, -336.55057, -336.1369 , ...,    0.     ,    0.     ,\n",
       "           0.     ]], dtype=float32)"
      ]
     },
     "execution_count": 12,
     "metadata": {},
     "output_type": "execute_result"
    }
   ],
   "source": [
    "FinalMFCC"
   ]
  },
  {
   "cell_type": "markdown",
   "id": "c78b2976",
   "metadata": {},
   "source": [
    "## Merging Action and Object as our label and Tranfsorm them to label Encoder function "
   ]
  },
  {
   "cell_type": "code",
   "execution_count": 13,
   "id": "2fccc12f",
   "metadata": {},
   "outputs": [],
   "source": [
    "# This function is for mixing two columns of labels \n",
    "labels = [FileName.action[i] + FileName.object[i] for i in range(len(FileName))]"
   ]
  },
  {
   "cell_type": "code",
   "execution_count": 14,
   "id": "a31b6735",
   "metadata": {},
   "outputs": [],
   "source": [
    "encoder = LabelEncoder()\n",
    "labelencoded = encoder.fit_transform(labels)"
   ]
  },
  {
   "cell_type": "markdown",
   "id": "7a179d96",
   "metadata": {},
   "source": [
    "### Oversampling Technique for Balancing Labels "
   ]
  },
  {
   "cell_type": "code",
   "execution_count": 16,
   "id": "c846d40a",
   "metadata": {},
   "outputs": [],
   "source": [
    "# Count the number of elements for each label\n",
    "labelcounts = Counter(labelencoded)\n",
    "\n",
    "max_count = max(labelcounts.values())\n",
    "melspectograms_resampled = []\n",
    "integer_encoded_labels_resampled = []\n",
    "\n",
    "for label, count in labelcounts.items():\n",
    "    label_indices = [i for i, x in enumerate(labelencoded) if x == label]\n",
    "\n",
    "    random_indices = np.random.choice(label_indices, size=(max_count-count), replace=True)\n",
    "    \n",
    "    for index in label_indices + list(random_indices):\n",
    "        melspectograms_resampled.append(FinalMFCC[index])\n",
    "        integer_encoded_labels_resampled.append(labelencoded[index])\n",
    "        \n",
    "melspectograms_resampled = np.array(melspectograms_resampled)\n",
    "melspectograms_resampled = melspectograms_resampled.reshape(melspectograms_resampled.shape[0], -1)"
   ]
  },
  {
   "cell_type": "code",
   "execution_count": 17,
   "id": "5e825f52",
   "metadata": {},
   "outputs": [],
   "source": [
    "### Train Test Split\n",
    "from sklearn.model_selection import train_test_split\n",
    "train_data2,test_data2,y_train,y_test=train_test_split(melspectograms_resampled,integer_encoded_labels_resampled,test_size=0.25,random_state=0)"
   ]
  },
  {
   "cell_type": "markdown",
   "id": "c66e3232",
   "metadata": {},
   "source": [
    "## Using Standard Scalar for Normalization "
   ]
  },
  {
   "cell_type": "code",
   "execution_count": 18,
   "id": "1c278dc5",
   "metadata": {},
   "outputs": [],
   "source": [
    "from sklearn.preprocessing import StandardScaler\n",
    "sc = StandardScaler()\n",
    "train_data2 = sc.fit_transform(train_data2)\n",
    "test_data2 = sc.transform(test_data2)"
   ]
  },
  {
   "cell_type": "code",
   "execution_count": 19,
   "id": "2a040a95",
   "metadata": {},
   "outputs": [
    {
     "name": "stdout",
     "output_type": "stream",
     "text": [
      "0.6686338797814207\n"
     ]
    }
   ],
   "source": [
    "from sklearn.svm import SVC\n",
    "classifier = SVC(kernel = 'rbf', random_state = 0)\n",
    "classifier.fit(train_data2, y_train)\n",
    "\n",
    "# Predicting the Test set results\n",
    "y_pred = classifier.predict(test_data2)\n",
    "\n",
    "\n",
    "from sklearn.metrics import accuracy_score\n",
    "print(accuracy_score(y_test, y_pred))\n"
   ]
  },
  {
   "cell_type": "markdown",
   "id": "4a8000d0",
   "metadata": {},
   "source": [
    "## Now This Section is for Evaluating New DataSet to predict there labels "
   ]
  },
  {
   "cell_type": "code",
   "execution_count": 20,
   "id": "86f41c4d",
   "metadata": {},
   "outputs": [],
   "source": [
    "# fetchin new data to be predicted for labeling \n",
    "evaluation_raw_data = pd.read_csv(f'Project/evaluation.csv')"
   ]
  },
  {
   "cell_type": "code",
   "execution_count": null,
   "id": "ba568a0d",
   "metadata": {},
   "outputs": [],
   "source": [
    "melspectograms_test = []\n",
    "\n",
    "for i in range(0, len(evaluation_raw_data.count(axis=1))):\n",
    "    path_address = evaluation_raw_data.path[i]\n",
    "    y, sr = librosa.load(path_address)\n",
    "    yy, _ = librosa.effects.trim(y,top_db = 20)  # trim silence from the beginning and end of the audio file\n",
    "    p=235000-len(yy)\n",
    "    padding=np.pad(yy,(0,p))\n",
    "    mel_spect = librosa.feature.mfcc(padding, sr=sr)\n",
    "    melspectograms_test.append(mel_spect)\n"
   ]
  },
  {
   "cell_type": "code",
   "execution_count": 23,
   "id": "4349fea6",
   "metadata": {},
   "outputs": [],
   "source": [
    "melspectograms_test = np.array(melspectograms_test)\n",
    "arrayed_melspectograms = melspectograms_test.reshape(melspectograms_test.shape[0], -1)"
   ]
  },
  {
   "cell_type": "code",
   "execution_count": 24,
   "id": "7823cd4c",
   "metadata": {},
   "outputs": [],
   "source": [
    "arrayed_melspectograms_test=sc.transform(arrayed_melspectograms)"
   ]
  },
  {
   "cell_type": "code",
   "execution_count": 25,
   "id": "a9f3e0f9",
   "metadata": {},
   "outputs": [
    {
     "data": {
      "text/plain": [
       "array([6, 0, 6, ..., 5, 3, 0], dtype=int64)"
      ]
     },
     "execution_count": 25,
     "metadata": {},
     "output_type": "execute_result"
    }
   ],
   "source": [
    "predictions = classifier.predict(arrayed_melspectograms_test)\n",
    "predictions"
   ]
  },
  {
   "cell_type": "code",
   "execution_count": 26,
   "id": "d54bc3b1",
   "metadata": {},
   "outputs": [
    {
     "data": {
      "text/plain": [
       "(1455,)"
      ]
     },
     "execution_count": 26,
     "metadata": {},
     "output_type": "execute_result"
    }
   ],
   "source": [
    "predictions.shape"
   ]
  },
  {
   "cell_type": "code",
   "execution_count": 28,
   "id": "2402ff7f",
   "metadata": {},
   "outputs": [],
   "source": [
    "predicted_classes = encoder.inverse_transform(predictions)"
   ]
  },
  {
   "cell_type": "code",
   "execution_count": 29,
   "id": "8a63095e",
   "metadata": {},
   "outputs": [
    {
     "data": {
      "text/plain": [
       "array(['increasevolume', 'activatemusic', 'increasevolume', ...,\n",
       "       'increaseheat', 'decreaseheat', 'activatemusic'], dtype='<U19')"
      ]
     },
     "execution_count": 29,
     "metadata": {},
     "output_type": "execute_result"
    }
   ],
   "source": [
    "predicted_classes"
   ]
  },
  {
   "cell_type": "code",
   "execution_count": 30,
   "id": "cdb03930",
   "metadata": {},
   "outputs": [],
   "source": [
    "num_samples = len(predicted_classes)\n",
    "result = pd.DataFrame({'Id': range(num_samples), 'Predicted': predicted_classes})"
   ]
  },
  {
   "cell_type": "code",
   "execution_count": 31,
   "id": "a6da9067",
   "metadata": {},
   "outputs": [],
   "source": [
    "result.to_csv(r'E:/SVM_Result.csv', index=False, sep=',')"
   ]
  },
  {
   "cell_type": "code",
   "execution_count": null,
   "id": "da661264",
   "metadata": {},
   "outputs": [],
   "source": []
  }
 ],
 "metadata": {
  "kernelspec": {
   "display_name": "Python 3 (ipykernel)",
   "language": "python",
   "name": "python3"
  },
  "language_info": {
   "codemirror_mode": {
    "name": "ipython",
    "version": 3
   },
   "file_extension": ".py",
   "mimetype": "text/x-python",
   "name": "python",
   "nbconvert_exporter": "python",
   "pygments_lexer": "ipython3",
   "version": "3.9.12"
  }
 },
 "nbformat": 4,
 "nbformat_minor": 5
}
